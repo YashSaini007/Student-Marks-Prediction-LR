{
 "cells": [
  {
   "cell_type": "markdown",
   "metadata": {},
   "source": [
    "## Importing Libraries "
   ]
  },
  {
   "cell_type": "code",
   "execution_count": 1,
   "metadata": {},
   "outputs": [],
   "source": [
    "import numpy as np\n",
    "import matplotlib.pyplot as plt\n",
    "import pandas as pd\n",
    "#import re\n",
    "import random\n",
    "import seaborn as sns"
   ]
  },
  {
   "cell_type": "markdown",
   "metadata": {},
   "source": [
    "## Reading Dataset"
   ]
  },
  {
   "cell_type": "code",
   "execution_count": 2,
   "metadata": {},
   "outputs": [],
   "source": [
    "df = pd.read_csv('/Users/yash/Desktop/CGdataset.csv')\n",
    "col = ['roll_no','cg3','rollno','cg4']\n",
    "df.columns = col"
   ]
  },
  {
   "cell_type": "code",
   "execution_count": 3,
   "metadata": {},
   "outputs": [
    {
     "data": {
      "text/html": [
       "<div>\n",
       "<style scoped>\n",
       "    .dataframe tbody tr th:only-of-type {\n",
       "        vertical-align: middle;\n",
       "    }\n",
       "\n",
       "    .dataframe tbody tr th {\n",
       "        vertical-align: top;\n",
       "    }\n",
       "\n",
       "    .dataframe thead th {\n",
       "        text-align: right;\n",
       "    }\n",
       "</style>\n",
       "<table border=\"1\" class=\"dataframe\">\n",
       "  <thead>\n",
       "    <tr style=\"text-align: right;\">\n",
       "      <th></th>\n",
       "      <th>roll_no</th>\n",
       "      <th>cg3</th>\n",
       "      <th>rollno</th>\n",
       "      <th>cg4</th>\n",
       "    </tr>\n",
       "  </thead>\n",
       "  <tbody>\n",
       "    <tr>\n",
       "      <th>0</th>\n",
       "      <td>2K18/AE/003</td>\n",
       "      <td>4.64</td>\n",
       "      <td>2K18/AE/003</td>\n",
       "      <td>7.45</td>\n",
       "    </tr>\n",
       "    <tr>\n",
       "      <th>1</th>\n",
       "      <td>2K18/AE/004</td>\n",
       "      <td>4.55</td>\n",
       "      <td>2K18/AE/004</td>\n",
       "      <td>5.82</td>\n",
       "    </tr>\n",
       "    <tr>\n",
       "      <th>2</th>\n",
       "      <td>2K18/AE/005</td>\n",
       "      <td>7.64</td>\n",
       "      <td>2K18/AE/005</td>\n",
       "      <td>7.36</td>\n",
       "    </tr>\n",
       "    <tr>\n",
       "      <th>3</th>\n",
       "      <td>2K18/AE/006</td>\n",
       "      <td>9.27</td>\n",
       "      <td>2K18/AE/006</td>\n",
       "      <td>9.82</td>\n",
       "    </tr>\n",
       "    <tr>\n",
       "      <th>4</th>\n",
       "      <td>2K18/AE/007</td>\n",
       "      <td>6.91</td>\n",
       "      <td>2K18/AE/007</td>\n",
       "      <td>7.18</td>\n",
       "    </tr>\n",
       "    <tr>\n",
       "      <th>...</th>\n",
       "      <td>...</td>\n",
       "      <td>...</td>\n",
       "      <td>...</td>\n",
       "      <td>...</td>\n",
       "    </tr>\n",
       "    <tr>\n",
       "      <th>1541</th>\n",
       "      <td>2K18/SE/133</td>\n",
       "      <td>6.55</td>\n",
       "      <td>2K18/SE/133</td>\n",
       "      <td>6.82</td>\n",
       "    </tr>\n",
       "    <tr>\n",
       "      <th>1542</th>\n",
       "      <td>2K18/SE/135</td>\n",
       "      <td>7.09</td>\n",
       "      <td>2K18/SE/135</td>\n",
       "      <td>7.45</td>\n",
       "    </tr>\n",
       "    <tr>\n",
       "      <th>1543</th>\n",
       "      <td>2K18/SE/136</td>\n",
       "      <td>7.55</td>\n",
       "      <td>2K18/SE/136</td>\n",
       "      <td>9.09</td>\n",
       "    </tr>\n",
       "    <tr>\n",
       "      <th>1544</th>\n",
       "      <td>2K18/SE/137</td>\n",
       "      <td>7.91</td>\n",
       "      <td>2K18/SE/137</td>\n",
       "      <td>8.91</td>\n",
       "    </tr>\n",
       "    <tr>\n",
       "      <th>1545</th>\n",
       "      <td>2K18/SE/138</td>\n",
       "      <td>1.64</td>\n",
       "      <td>2K18/SE/138</td>\n",
       "      <td>2.50</td>\n",
       "    </tr>\n",
       "  </tbody>\n",
       "</table>\n",
       "<p>1546 rows × 4 columns</p>\n",
       "</div>"
      ],
      "text/plain": [
       "          roll_no   cg3       rollno   cg4\n",
       "0     2K18/AE/003  4.64  2K18/AE/003  7.45\n",
       "1     2K18/AE/004  4.55  2K18/AE/004  5.82\n",
       "2     2K18/AE/005  7.64  2K18/AE/005  7.36\n",
       "3     2K18/AE/006  9.27  2K18/AE/006  9.82\n",
       "4     2K18/AE/007  6.91  2K18/AE/007  7.18\n",
       "...           ...   ...          ...   ...\n",
       "1541  2K18/SE/133  6.55  2K18/SE/133  6.82\n",
       "1542  2K18/SE/135  7.09  2K18/SE/135  7.45\n",
       "1543  2K18/SE/136  7.55  2K18/SE/136  9.09\n",
       "1544  2K18/SE/137  7.91  2K18/SE/137  8.91\n",
       "1545  2K18/SE/138  1.64  2K18/SE/138  2.50\n",
       "\n",
       "[1546 rows x 4 columns]"
      ]
     },
     "execution_count": 3,
     "metadata": {},
     "output_type": "execute_result"
    }
   ],
   "source": [
    "df"
   ]
  },
  {
   "cell_type": "markdown",
   "metadata": {},
   "source": [
    "## Droping null values "
   ]
  },
  {
   "cell_type": "code",
   "execution_count": 4,
   "metadata": {},
   "outputs": [
    {
     "name": "stdout",
     "output_type": "stream",
     "text": [
      "          roll_no   cg3       rollno   cg4\n",
      "0     2K18/AE/003  4.64  2K18/AE/003  7.45\n",
      "1     2K18/AE/004  4.55  2K18/AE/004  5.82\n",
      "2     2K18/AE/005  7.64  2K18/AE/005  7.36\n",
      "3     2K18/AE/006  9.27  2K18/AE/006  9.82\n",
      "4     2K18/AE/007  6.91  2K18/AE/007  7.18\n",
      "...           ...   ...          ...   ...\n",
      "1541  2K18/SE/133  6.55  2K18/SE/133  6.82\n",
      "1542  2K18/SE/135  7.09  2K18/SE/135  7.45\n",
      "1543  2K18/SE/136  7.55  2K18/SE/136  9.09\n",
      "1544  2K18/SE/137  7.91  2K18/SE/137  8.91\n",
      "1545  2K18/SE/138  1.64  2K18/SE/138  2.50\n",
      "\n",
      "[1542 rows x 4 columns]\n"
     ]
    }
   ],
   "source": [
    "print(df.dropna(how='any'))\n",
    "df = df.dropna(how='any')"
   ]
  },
  {
   "cell_type": "markdown",
   "metadata": {},
   "source": [
    "## Droping rows with cg less than 1 in either one of the semester "
   ]
  },
  {
   "cell_type": "code",
   "execution_count": 5,
   "metadata": {},
   "outputs": [
    {
     "name": "stdout",
     "output_type": "stream",
     "text": [
      "<class 'pandas.core.frame.DataFrame'>\n"
     ]
    },
    {
     "data": {
      "text/html": [
       "<div>\n",
       "<style scoped>\n",
       "    .dataframe tbody tr th:only-of-type {\n",
       "        vertical-align: middle;\n",
       "    }\n",
       "\n",
       "    .dataframe tbody tr th {\n",
       "        vertical-align: top;\n",
       "    }\n",
       "\n",
       "    .dataframe thead th {\n",
       "        text-align: right;\n",
       "    }\n",
       "</style>\n",
       "<table border=\"1\" class=\"dataframe\">\n",
       "  <thead>\n",
       "    <tr style=\"text-align: right;\">\n",
       "      <th></th>\n",
       "      <th>roll_no</th>\n",
       "      <th>cg3</th>\n",
       "      <th>rollno</th>\n",
       "      <th>cg4</th>\n",
       "    </tr>\n",
       "  </thead>\n",
       "  <tbody>\n",
       "    <tr>\n",
       "      <th>67</th>\n",
       "      <td>2K18/BT/014</td>\n",
       "      <td>0.91</td>\n",
       "      <td>2K18/BT/014</td>\n",
       "      <td>4.00</td>\n",
       "    </tr>\n",
       "    <tr>\n",
       "      <th>88</th>\n",
       "      <td>2K18/BT/037</td>\n",
       "      <td>0.00</td>\n",
       "      <td>2K18/BT/037</td>\n",
       "      <td>0.80</td>\n",
       "    </tr>\n",
       "    <tr>\n",
       "      <th>157</th>\n",
       "      <td>2K18/CO/061</td>\n",
       "      <td>0.00</td>\n",
       "      <td>2K18/CO/061</td>\n",
       "      <td>0.00</td>\n",
       "    </tr>\n",
       "    <tr>\n",
       "      <th>580</th>\n",
       "      <td>2K18/EC/093</td>\n",
       "      <td>0.73</td>\n",
       "      <td>2K18/EC/093</td>\n",
       "      <td>6.45</td>\n",
       "    </tr>\n",
       "    <tr>\n",
       "      <th>594</th>\n",
       "      <td>2K18/EC/107</td>\n",
       "      <td>0.45</td>\n",
       "      <td>2K18/EC/107</td>\n",
       "      <td>1.00</td>\n",
       "    </tr>\n",
       "    <tr>\n",
       "      <th>714</th>\n",
       "      <td>2K18/EN/034</td>\n",
       "      <td>3.55</td>\n",
       "      <td>2K18/EN/034</td>\n",
       "      <td>0.00</td>\n",
       "    </tr>\n",
       "    <tr>\n",
       "      <th>738</th>\n",
       "      <td>2K18/EP/012</td>\n",
       "      <td>0.82</td>\n",
       "      <td>2K18/EP/012</td>\n",
       "      <td>2.73</td>\n",
       "    </tr>\n",
       "    <tr>\n",
       "      <th>840</th>\n",
       "      <td>2K18/IT/027</td>\n",
       "      <td>0.00</td>\n",
       "      <td>2K18/IT/027</td>\n",
       "      <td>6.82</td>\n",
       "    </tr>\n",
       "    <tr>\n",
       "      <th>851</th>\n",
       "      <td>2K18/IT/038</td>\n",
       "      <td>0.91</td>\n",
       "      <td>2K18/IT/038</td>\n",
       "      <td>4.18</td>\n",
       "    </tr>\n",
       "    <tr>\n",
       "      <th>858</th>\n",
       "      <td>2K18/IT/045</td>\n",
       "      <td>0.91</td>\n",
       "      <td>2K18/IT/045</td>\n",
       "      <td>6.64</td>\n",
       "    </tr>\n",
       "    <tr>\n",
       "      <th>863</th>\n",
       "      <td>2K18/IT/050</td>\n",
       "      <td>2.09</td>\n",
       "      <td>2K18/IT/050</td>\n",
       "      <td>0.55</td>\n",
       "    </tr>\n",
       "    <tr>\n",
       "      <th>990</th>\n",
       "      <td>2K18/MC/046</td>\n",
       "      <td>0.91</td>\n",
       "      <td>2K18/MC/046</td>\n",
       "      <td>0.00</td>\n",
       "    </tr>\n",
       "  </tbody>\n",
       "</table>\n",
       "</div>"
      ],
      "text/plain": [
       "         roll_no   cg3       rollno   cg4\n",
       "67   2K18/BT/014  0.91  2K18/BT/014  4.00\n",
       "88   2K18/BT/037  0.00  2K18/BT/037  0.80\n",
       "157  2K18/CO/061  0.00  2K18/CO/061  0.00\n",
       "580  2K18/EC/093  0.73  2K18/EC/093  6.45\n",
       "594  2K18/EC/107  0.45  2K18/EC/107  1.00\n",
       "714  2K18/EN/034  3.55  2K18/EN/034  0.00\n",
       "738  2K18/EP/012  0.82  2K18/EP/012  2.73\n",
       "840  2K18/IT/027  0.00  2K18/IT/027  6.82\n",
       "851  2K18/IT/038  0.91  2K18/IT/038  4.18\n",
       "858  2K18/IT/045  0.91  2K18/IT/045  6.64\n",
       "863  2K18/IT/050  2.09  2K18/IT/050  0.55\n",
       "990  2K18/MC/046  0.91  2K18/MC/046  0.00"
      ]
     },
     "execution_count": 5,
     "metadata": {},
     "output_type": "execute_result"
    }
   ],
   "source": [
    "df_less = df[(df['cg3']<1) | (df['cg4']<1) ]\n",
    "print(type(df_less))\n",
    "df_less"
   ]
  },
  {
   "cell_type": "code",
   "execution_count": 6,
   "metadata": {},
   "outputs": [
    {
     "name": "stdout",
     "output_type": "stream",
     "text": [
      "<class 'pandas.core.indexes.numeric.Int64Index'>\n",
      "Int64Index([67, 88, 157, 580, 594, 714, 738, 840, 851, 858, 863, 990], dtype='int64')\n"
     ]
    }
   ],
   "source": [
    "df_less = df[(df['cg3']<1) | (df['cg4']<1) ].index\n",
    "print(type(df_less))\n",
    "print(df_less)"
   ]
  },
  {
   "cell_type": "code",
   "execution_count": 7,
   "metadata": {},
   "outputs": [],
   "source": [
    "# function to drop \n",
    "for i in df_less:\n",
    "    df = df.drop(i)"
   ]
  },
  {
   "cell_type": "markdown",
   "metadata": {},
   "source": [
    "## Visualization  "
   ]
  },
  {
   "cell_type": "code",
   "execution_count": null,
   "metadata": {},
   "outputs": [],
   "source": []
  },
  {
   "cell_type": "code",
   "execution_count": null,
   "metadata": {},
   "outputs": [],
   "source": []
  },
  {
   "cell_type": "code",
   "execution_count": 8,
   "metadata": {},
   "outputs": [
    {
     "data": {
      "image/png": "[encoded data removed]",
      "text/plain": [
       "<Figure size 720x720 with 1 Axes>"
      ]
     },
     "metadata": {
      "needs_background": "light"
     },
     "output_type": "display_data"
    }
   ],
   "source": [
    "plt.figure(figsize=(10,10))\n",
    "\n",
    "plt.scatter(df['cg3'],df['cg4'])\n",
    "plt.xlabel('3rd Sem CGPA')\n",
    "plt.ylabel('4rd Sem CGPA')\n",
    "\n",
    "plt.grid()\n",
    "plt.show()"
   ]
  },
  {
   "cell_type": "code",
   "execution_count": 9,
   "metadata": {},
   "outputs": [
    {
     "data": {
      "text/plain": [
       "<seaborn.axisgrid.FacetGrid at 0x7fd77b9c0940>"
      ]
     },
     "execution_count": 9,
     "metadata": {},
     "output_type": "execute_result"
    },
    {
     "data": {
      "image/png": "[encoded data removed]",
      "text/plain": [
       "<Figure size 360x360 with 1 Axes>"
      ]
     },
     "metadata": {
      "needs_background": "light"
     },
     "output_type": "display_data"
    }
   ],
   "source": [
    "sns.displot(df['cg4']- df['cg3'])"
   ]
  },
  {
   "cell_type": "code",
   "execution_count": null,
   "metadata": {},
   "outputs": [],
   "source": []
  },
  {
   "cell_type": "code",
   "execution_count": null,
   "metadata": {},
   "outputs": [],
   "source": []
  },
  {
   "cell_type": "code",
   "execution_count": null,
   "metadata": {},
   "outputs": [],
   "source": []
  },
  {
   "cell_type": "markdown",
   "metadata": {},
   "source": [
    "## Spliting into Training and Testing split"
   ]
  },
  {
   "cell_type": "code",
   "execution_count": 10,
   "metadata": {},
   "outputs": [
    {
     "name": "stdout",
     "output_type": "stream",
     "text": [
      "(1071,) (459,) (1071,) (459,)\n"
     ]
    }
   ],
   "source": [
    "from sklearn.model_selection import train_test_split\n",
    "\n",
    "X = df['cg3']\n",
    "y = df['cg4']\n",
    "\n",
    "X_train, X_test, y_train, y_test = train_test_split(X, y, test_size=0.3, random_state=1)\n",
    "print(X_train.shape, X_test.shape, y_train.shape, y_test.shape)"
   ]
  },
  {
   "cell_type": "markdown",
   "metadata": {},
   "source": [
    "## Gradient Decent "
   ]
  },
  {
   "cell_type": "code",
   "execution_count": 11,
   "metadata": {},
   "outputs": [],
   "source": [
    "def gradient_descent(x, y_expected, epochs=1000, learning_rate=0.0001):\n",
    "    global w,b\n",
    "    w = random.uniform(0, 1)\n",
    "    b = random.uniform(0, 1)\n",
    "\n",
    "    N = x.shape[0]\n",
    "    cost = []\n",
    "    for i in range(epochs):\n",
    "        y_current = w * x + b\n",
    "        cost.append(np.sum((y_expected - y_current) ** 2) / N)\n",
    "        w_gradient = - 2 / N * np.sum(2 * (y_expected - y_current) * x)\n",
    "        b_gradient = - 2 / N * np.sum(2 * (y_expected - y_current))\n",
    "\n",
    "        w = w - (learning_rate * w_gradient)\n",
    "        b = b - (learning_rate * b_gradient)\n",
    "\n",
    "    return w, b, cost"
   ]
  },
  {
   "cell_type": "code",
   "execution_count": null,
   "metadata": {},
   "outputs": [],
   "source": []
  },
  {
   "cell_type": "code",
   "execution_count": 24,
   "metadata": {},
   "outputs": [],
   "source": [
    "def predict_grades():\n",
    "    \n",
    "    x, y = df['cg3'], df['cg4']\n",
    "    \n",
    "    w, b, costs = gradient_descent(x, y, epochs=1000, learning_rate=0.008)\n",
    "    \n",
    "    plt.figure(figsize=(10,10))\n",
    "\n",
    "    plt.plot(costs,'.')\n",
    "    plt.title('Cost')\n",
    "    plt.xlabel('Epoch number')\n",
    "    plt.ylabel('Cost value')\n",
    "    plt.grid()\n",
    "    plt.show()\n",
    "    \n",
    "    x_plot = np.arange(0, 10, 0.1)\n",
    "    y_plot = x_plot*w+b\n",
    "    \n",
    "    plt.figure(figsize=(10,10))\n",
    "\n",
    "    plt.plot(X_train, y_train, '.', x_plot, y_plot, '-')\n",
    "    plt.xlabel('CGPA 3rd Sem')\n",
    "    plt.ylabel('CGPA 4th Sem')\n",
    "    plt.legend(['Score points', 'Linear regression'])\n",
    "    plt.grid()\n",
    "    plt.show()\n"
   ]
  },
  {
   "cell_type": "code",
   "execution_count": 25,
   "metadata": {
    "scrolled": false
   },
   "outputs": [
    {
     "data": {
      "image/png": "[encoded data removed]",
      "text/plain": [
       "<Figure size 720x720 with 1 Axes>"
      ]
     },
     "metadata": {
      "needs_background": "light"
     },
     "output_type": "display_data"
    },
    {
     "data": {
      "image/png": "[encoded data removed]",
      "text/plain": [
       "<Figure size 720x720 with 1 Axes>"
      ]
     },
     "metadata": {
      "needs_background": "light"
     },
     "output_type": "display_data"
    }
   ],
   "source": [
    "predict_grades()"
   ]
  },
  {
   "cell_type": "code",
   "execution_count": 14,
   "metadata": {},
   "outputs": [
    {
     "name": "stdout",
     "output_type": "stream",
     "text": [
      "Slope of the line is:  0.7190989876420801 \n",
      " Y intercept is:  2.579635661839446\n"
     ]
    }
   ],
   "source": [
    "print('Slope of the line is: ',w,'\\n','Y intercept is: ',b)"
   ]
  },
  {
   "cell_type": "code",
   "execution_count": 15,
   "metadata": {},
   "outputs": [
    {
     "data": {
      "text/html": [
       "<div>\n",
       "<style scoped>\n",
       "    .dataframe tbody tr th:only-of-type {\n",
       "        vertical-align: middle;\n",
       "    }\n",
       "\n",
       "    .dataframe tbody tr th {\n",
       "        vertical-align: top;\n",
       "    }\n",
       "\n",
       "    .dataframe thead th {\n",
       "        text-align: right;\n",
       "    }\n",
       "</style>\n",
       "<table border=\"1\" class=\"dataframe\">\n",
       "  <thead>\n",
       "    <tr style=\"text-align: right;\">\n",
       "      <th></th>\n",
       "      <th>cg4</th>\n",
       "      <th>CG4 Predicted</th>\n",
       "    </tr>\n",
       "  </thead>\n",
       "  <tbody>\n",
       "    <tr>\n",
       "      <th>60</th>\n",
       "      <td>9.64</td>\n",
       "      <td>9.051527</td>\n",
       "    </tr>\n",
       "    <tr>\n",
       "      <th>1046</th>\n",
       "      <td>8.91</td>\n",
       "      <td>8.073552</td>\n",
       "    </tr>\n",
       "    <tr>\n",
       "      <th>267</th>\n",
       "      <td>9.18</td>\n",
       "      <td>9.051527</td>\n",
       "    </tr>\n",
       "    <tr>\n",
       "      <th>605</th>\n",
       "      <td>8.00</td>\n",
       "      <td>7.548610</td>\n",
       "    </tr>\n",
       "    <tr>\n",
       "      <th>1283</th>\n",
       "      <td>6.18</td>\n",
       "      <td>6.369287</td>\n",
       "    </tr>\n",
       "    <tr>\n",
       "      <th>...</th>\n",
       "      <td>...</td>\n",
       "      <td>...</td>\n",
       "    </tr>\n",
       "    <tr>\n",
       "      <th>8</th>\n",
       "      <td>7.45</td>\n",
       "      <td>7.419172</td>\n",
       "    </tr>\n",
       "    <tr>\n",
       "      <th>604</th>\n",
       "      <td>8.00</td>\n",
       "      <td>7.807485</td>\n",
       "    </tr>\n",
       "    <tr>\n",
       "      <th>244</th>\n",
       "      <td>8.00</td>\n",
       "      <td>8.656022</td>\n",
       "    </tr>\n",
       "    <tr>\n",
       "      <th>496</th>\n",
       "      <td>8.45</td>\n",
       "      <td>8.397146</td>\n",
       "    </tr>\n",
       "    <tr>\n",
       "      <th>1520</th>\n",
       "      <td>8.64</td>\n",
       "      <td>8.267709</td>\n",
       "    </tr>\n",
       "  </tbody>\n",
       "</table>\n",
       "<p>459 rows × 2 columns</p>\n",
       "</div>"
      ],
      "text/plain": [
       "       cg4  CG4 Predicted\n",
       "60    9.64       9.051527\n",
       "1046  8.91       8.073552\n",
       "267   9.18       9.051527\n",
       "605   8.00       7.548610\n",
       "1283  6.18       6.369287\n",
       "...    ...            ...\n",
       "8     7.45       7.419172\n",
       "604   8.00       7.807485\n",
       "244   8.00       8.656022\n",
       "496   8.45       8.397146\n",
       "1520  8.64       8.267709\n",
       "\n",
       "[459 rows x 2 columns]"
      ]
     },
     "execution_count": 15,
     "metadata": {},
     "output_type": "execute_result"
    }
   ],
   "source": [
    "df_pre =  pd.DataFrame(y_test)\n",
    "y_pre = X_test*w + b\n",
    "df_pre['CG4 Predicted'] = y_pre\n",
    "df_pre"
   ]
  },
  {
   "cell_type": "code",
   "execution_count": 16,
   "metadata": {},
   "outputs": [
    {
     "data": {
      "text/plain": [
       "<seaborn.axisgrid.FacetGrid at 0x7fd77c137580>"
      ]
     },
     "execution_count": 16,
     "metadata": {},
     "output_type": "execute_result"
    },
    {
     "data": {
      "image/png": "[encoded data removed]",
      "text/plain": [
       "<Figure size 360x360 with 1 Axes>"
      ]
     },
     "metadata": {
      "needs_background": "light"
     },
     "output_type": "display_data"
    }
   ],
   "source": [
    "sns.displot(y_test-y_pre)"
   ]
  },
  {
   "cell_type": "markdown",
   "metadata": {},
   "source": [
    "## Performance Measures"
   ]
  },
  {
   "cell_type": "code",
   "execution_count": 17,
   "metadata": {},
   "outputs": [],
   "source": [
    "from sklearn import metrics"
   ]
  },
  {
   "cell_type": "code",
   "execution_count": 18,
   "metadata": {},
   "outputs": [
    {
     "name": "stdout",
     "output_type": "stream",
     "text": [
      "\n",
      "Mean Square Error:      0.32726168297930297\n",
      "\n",
      "R2 Score:               0.798909171397658\n"
     ]
    }
   ],
   "source": [
    "print()\n",
    "print('Mean Square Error:     ', metrics.mean_squared_error(y_test, y_pre))\n",
    "print()\n",
    "print('R2 Score:              ', metrics.r2_score(y_test,y_pre))"
   ]
  },
  {
   "cell_type": "code",
   "execution_count": 19,
   "metadata": {},
   "outputs": [],
   "source": [
    "def mean_absolute_percentage_error(y_true, y_pred): \n",
    "    y_true, y_pred = np.array(y_true), np.array(y_pred)\n",
    "    return np.mean(np.abs((y_true - y_pred) / y_true)) * 100"
   ]
  },
  {
   "cell_type": "code",
   "execution_count": 20,
   "metadata": {},
   "outputs": [
    {
     "name": "stdout",
     "output_type": "stream",
     "text": [
      "MAPE is:-  5.957611926768737\n"
     ]
    }
   ],
   "source": [
    "print('MAPE is:- ',mean_absolute_percentage_error(y_test,y_pre))"
   ]
  },
  {
   "cell_type": "code",
   "execution_count": 21,
   "metadata": {},
   "outputs": [
    {
     "name": "stdout",
     "output_type": "stream",
     "text": [
      "RMSPE is:- 9.094512267810963\n"
     ]
    }
   ],
   "source": [
    "rmspe = np.sqrt(np.mean(np.square(((y_test - y_pre) / y_test)), axis=0))\n",
    "print('RMSPE is:-',rmspe*100)"
   ]
  },
  {
   "cell_type": "code",
   "execution_count": 27,
   "metadata": {},
   "outputs": [
    {
     "name": "stdout",
     "output_type": "stream",
     "text": [
      "MBE is:- -0.006106677635694208\n"
     ]
    }
   ],
   "source": [
    "mbe = (y_test-y_pre).mean()\n",
    "print('MBE is:-',mbe)"
   ]
  },
  {
   "cell_type": "code",
   "execution_count": null,
   "metadata": {},
   "outputs": [],
   "source": []
  },
  {
   "cell_type": "code",
   "execution_count": null,
   "metadata": {},
   "outputs": [],
   "source": []
  }
 ],
 "metadata": {
  "kernelspec": {
   "display_name": "Python 3",
   "language": "python",
   "name": "python3"
  },
  "language_info": {
   "codemirror_mode": {
    "name": "ipython",
    "version": 3
   },
   "file_extension": ".py",
   "mimetype": "text/x-python",
   "name": "python",
   "nbconvert_exporter": "python",
   "pygments_lexer": "ipython3",
   "version": "3.8.2"
  }
 },
 "nbformat": 4,
 "nbformat_minor": 4
}
